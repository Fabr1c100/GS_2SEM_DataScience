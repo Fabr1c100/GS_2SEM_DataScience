{
 "cells": [
  {
   "cell_type": "markdown",
   "metadata": {},
   "source": [
    "### Desenvolvimento e Entrega do 3º Checkpoint - Data Science e Statistical\n",
    " \n",
    "**Nomes + RM dos integrantes:**\n",
    "- Guilherme Akio - 98582\n",
    "- Fabrício Saavedra - 97631\n",
    " \n",
    "**Turma:** 2ESPW\n",
    " \n",
    "**Ano:** 2024\n",
    "\n",
    "> Link do repositório: https://github.com/Fabr1c100/GS_2SEM_DataScience.git\n",
    "\n",
    "___ \n",
    "### Descrição do Projeto\n",
    ".\n",
    "\n",
    "> Base: https://www.kaggle.com/datasets/jainaru/global-ecological-footprint-2023/data\n"
   ]
  },
  {
   "cell_type": "code",
   "execution_count": null,
   "metadata": {
    "vscode": {
     "languageId": "plaintext"
    }
   },
   "outputs": [],
   "source": []
  }
 ],
 "metadata": {
  "language_info": {
   "name": "python"
  }
 },
 "nbformat": 4,
 "nbformat_minor": 2
}
